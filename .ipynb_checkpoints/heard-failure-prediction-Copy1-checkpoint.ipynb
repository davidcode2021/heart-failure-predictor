{
 "cells": [
  {
   "cell_type": "code",
   "execution_count": null,
   "id": "b10ae9b1-6acb-4528-9983-e139b0e273f4",
   "metadata": {},
   "outputs": [],
   "source": []
  },
  {
   "cell_type": "code",
   "execution_count": 86,
   "id": "f1836d95-5f1f-411c-940f-4316525332c1",
   "metadata": {},
   "outputs": [],
   "source": [
    "# importing the necessary libraries\n",
    "import pandas as pd \n",
    "import numpy as np\n",
    "import joblib\n",
    "from sklearn.model_selection import train_test_split, GridSearchCV\n",
    "from sklearn.pipeline import Pipeline \n",
    "from imblearn.over_sampling import SMOTE\n",
    "from sklearn.preprocessing import StandardScaler\n",
    "from sklearn.linear_model import LogisticRegression\n",
    "from  sklearn.metrics import f1_score\n",
    "\n"
   ]
  },
  {
   "cell_type": "markdown",
   "id": "3d6d478e-6fc8-4454-b49f-e1c117bcfed3",
   "metadata": {},
   "source": [
    "##### loading the data "
   ]
  },
  {
   "cell_type": "code",
   "execution_count": 88,
   "id": "bff4afa0-209f-4397-93fa-c7fa194e6467",
   "metadata": {},
   "outputs": [
    {
     "data": {
      "text/html": [
       "<div>\n",
       "<style scoped>\n",
       "    .dataframe tbody tr th:only-of-type {\n",
       "        vertical-align: middle;\n",
       "    }\n",
       "\n",
       "    .dataframe tbody tr th {\n",
       "        vertical-align: top;\n",
       "    }\n",
       "\n",
       "    .dataframe thead th {\n",
       "        text-align: right;\n",
       "    }\n",
       "</style>\n",
       "<table border=\"1\" class=\"dataframe\">\n",
       "  <thead>\n",
       "    <tr style=\"text-align: right;\">\n",
       "      <th></th>\n",
       "      <th>age</th>\n",
       "      <th>anaemia</th>\n",
       "      <th>creatinine_phosphokinase</th>\n",
       "      <th>diabetes</th>\n",
       "      <th>ejection_fraction</th>\n",
       "      <th>high_blood_pressure</th>\n",
       "      <th>platelets</th>\n",
       "      <th>serum_creatinine</th>\n",
       "      <th>serum_sodium</th>\n",
       "      <th>sex</th>\n",
       "      <th>smoking</th>\n",
       "      <th>time</th>\n",
       "      <th>DEATH_EVENT</th>\n",
       "    </tr>\n",
       "  </thead>\n",
       "  <tbody>\n",
       "    <tr>\n",
       "      <th>0</th>\n",
       "      <td>75.0</td>\n",
       "      <td>0</td>\n",
       "      <td>582</td>\n",
       "      <td>0</td>\n",
       "      <td>20</td>\n",
       "      <td>1</td>\n",
       "      <td>265000.00</td>\n",
       "      <td>1.9</td>\n",
       "      <td>130</td>\n",
       "      <td>1</td>\n",
       "      <td>0</td>\n",
       "      <td>4</td>\n",
       "      <td>1</td>\n",
       "    </tr>\n",
       "    <tr>\n",
       "      <th>1</th>\n",
       "      <td>55.0</td>\n",
       "      <td>0</td>\n",
       "      <td>7861</td>\n",
       "      <td>0</td>\n",
       "      <td>38</td>\n",
       "      <td>0</td>\n",
       "      <td>263358.03</td>\n",
       "      <td>1.1</td>\n",
       "      <td>136</td>\n",
       "      <td>1</td>\n",
       "      <td>0</td>\n",
       "      <td>6</td>\n",
       "      <td>1</td>\n",
       "    </tr>\n",
       "    <tr>\n",
       "      <th>2</th>\n",
       "      <td>65.0</td>\n",
       "      <td>0</td>\n",
       "      <td>146</td>\n",
       "      <td>0</td>\n",
       "      <td>20</td>\n",
       "      <td>0</td>\n",
       "      <td>162000.00</td>\n",
       "      <td>1.3</td>\n",
       "      <td>129</td>\n",
       "      <td>1</td>\n",
       "      <td>1</td>\n",
       "      <td>7</td>\n",
       "      <td>1</td>\n",
       "    </tr>\n",
       "    <tr>\n",
       "      <th>3</th>\n",
       "      <td>50.0</td>\n",
       "      <td>1</td>\n",
       "      <td>111</td>\n",
       "      <td>0</td>\n",
       "      <td>20</td>\n",
       "      <td>0</td>\n",
       "      <td>210000.00</td>\n",
       "      <td>1.9</td>\n",
       "      <td>137</td>\n",
       "      <td>1</td>\n",
       "      <td>0</td>\n",
       "      <td>7</td>\n",
       "      <td>1</td>\n",
       "    </tr>\n",
       "    <tr>\n",
       "      <th>4</th>\n",
       "      <td>65.0</td>\n",
       "      <td>1</td>\n",
       "      <td>160</td>\n",
       "      <td>1</td>\n",
       "      <td>20</td>\n",
       "      <td>0</td>\n",
       "      <td>327000.00</td>\n",
       "      <td>2.7</td>\n",
       "      <td>116</td>\n",
       "      <td>0</td>\n",
       "      <td>0</td>\n",
       "      <td>8</td>\n",
       "      <td>1</td>\n",
       "    </tr>\n",
       "  </tbody>\n",
       "</table>\n",
       "</div>"
      ],
      "text/plain": [
       "    age  anaemia  creatinine_phosphokinase  diabetes  ejection_fraction  \\\n",
       "0  75.0        0                       582         0                 20   \n",
       "1  55.0        0                      7861         0                 38   \n",
       "2  65.0        0                       146         0                 20   \n",
       "3  50.0        1                       111         0                 20   \n",
       "4  65.0        1                       160         1                 20   \n",
       "\n",
       "   high_blood_pressure  platelets  serum_creatinine  serum_sodium  sex  \\\n",
       "0                    1  265000.00               1.9           130    1   \n",
       "1                    0  263358.03               1.1           136    1   \n",
       "2                    0  162000.00               1.3           129    1   \n",
       "3                    0  210000.00               1.9           137    1   \n",
       "4                    0  327000.00               2.7           116    0   \n",
       "\n",
       "   smoking  time  DEATH_EVENT  \n",
       "0        0     4            1  \n",
       "1        0     6            1  \n",
       "2        1     7            1  \n",
       "3        0     7            1  \n",
       "4        0     8            1  "
      ]
     },
     "execution_count": 88,
     "metadata": {},
     "output_type": "execute_result"
    }
   ],
   "source": [
    "df=pd.read_csv(\"data.xls\")\n",
    "df.head()"
   ]
  },
  {
   "cell_type": "markdown",
   "id": "d54156f0-c131-46cd-8400-374fc0a99081",
   "metadata": {},
   "source": [
    "#### Exploratory data analysis"
   ]
  },
  {
   "cell_type": "code",
   "execution_count": 90,
   "id": "e259d3fb-44f8-4247-bf16-fd8ac6a8c8e3",
   "metadata": {},
   "outputs": [
    {
     "name": "stdout",
     "output_type": "stream",
     "text": [
      "<class 'pandas.core.frame.DataFrame'>\n",
      "RangeIndex: 299 entries, 0 to 298\n",
      "Data columns (total 13 columns):\n",
      " #   Column                    Non-Null Count  Dtype  \n",
      "---  ------                    --------------  -----  \n",
      " 0   age                       299 non-null    float64\n",
      " 1   anaemia                   299 non-null    int64  \n",
      " 2   creatinine_phosphokinase  299 non-null    int64  \n",
      " 3   diabetes                  299 non-null    int64  \n",
      " 4   ejection_fraction         299 non-null    int64  \n",
      " 5   high_blood_pressure       299 non-null    int64  \n",
      " 6   platelets                 299 non-null    float64\n",
      " 7   serum_creatinine          299 non-null    float64\n",
      " 8   serum_sodium              299 non-null    int64  \n",
      " 9   sex                       299 non-null    int64  \n",
      " 10  smoking                   299 non-null    int64  \n",
      " 11  time                      299 non-null    int64  \n",
      " 12  DEATH_EVENT               299 non-null    int64  \n",
      "dtypes: float64(3), int64(10)\n",
      "memory usage: 30.5 KB\n"
     ]
    }
   ],
   "source": [
    "df.info()"
   ]
  },
  {
   "cell_type": "code",
   "execution_count": 91,
   "id": "62968b36-fd1b-433a-830e-7c0205ec8756",
   "metadata": {},
   "outputs": [
    {
     "data": {
      "text/html": [
       "<div>\n",
       "<style scoped>\n",
       "    .dataframe tbody tr th:only-of-type {\n",
       "        vertical-align: middle;\n",
       "    }\n",
       "\n",
       "    .dataframe tbody tr th {\n",
       "        vertical-align: top;\n",
       "    }\n",
       "\n",
       "    .dataframe thead th {\n",
       "        text-align: right;\n",
       "    }\n",
       "</style>\n",
       "<table border=\"1\" class=\"dataframe\">\n",
       "  <thead>\n",
       "    <tr style=\"text-align: right;\">\n",
       "      <th></th>\n",
       "      <th>count</th>\n",
       "      <th>mean</th>\n",
       "      <th>std</th>\n",
       "      <th>min</th>\n",
       "      <th>25%</th>\n",
       "      <th>50%</th>\n",
       "      <th>75%</th>\n",
       "      <th>max</th>\n",
       "    </tr>\n",
       "  </thead>\n",
       "  <tbody>\n",
       "    <tr>\n",
       "      <th>age</th>\n",
       "      <td>299.0</td>\n",
       "      <td>60.833893</td>\n",
       "      <td>11.894809</td>\n",
       "      <td>40.0</td>\n",
       "      <td>51.0</td>\n",
       "      <td>60.0</td>\n",
       "      <td>70.0</td>\n",
       "      <td>95.0</td>\n",
       "    </tr>\n",
       "    <tr>\n",
       "      <th>anaemia</th>\n",
       "      <td>299.0</td>\n",
       "      <td>0.431438</td>\n",
       "      <td>0.496107</td>\n",
       "      <td>0.0</td>\n",
       "      <td>0.0</td>\n",
       "      <td>0.0</td>\n",
       "      <td>1.0</td>\n",
       "      <td>1.0</td>\n",
       "    </tr>\n",
       "    <tr>\n",
       "      <th>creatinine_phosphokinase</th>\n",
       "      <td>299.0</td>\n",
       "      <td>581.839465</td>\n",
       "      <td>970.287881</td>\n",
       "      <td>23.0</td>\n",
       "      <td>116.5</td>\n",
       "      <td>250.0</td>\n",
       "      <td>582.0</td>\n",
       "      <td>7861.0</td>\n",
       "    </tr>\n",
       "    <tr>\n",
       "      <th>diabetes</th>\n",
       "      <td>299.0</td>\n",
       "      <td>0.418060</td>\n",
       "      <td>0.494067</td>\n",
       "      <td>0.0</td>\n",
       "      <td>0.0</td>\n",
       "      <td>0.0</td>\n",
       "      <td>1.0</td>\n",
       "      <td>1.0</td>\n",
       "    </tr>\n",
       "    <tr>\n",
       "      <th>ejection_fraction</th>\n",
       "      <td>299.0</td>\n",
       "      <td>38.083612</td>\n",
       "      <td>11.834841</td>\n",
       "      <td>14.0</td>\n",
       "      <td>30.0</td>\n",
       "      <td>38.0</td>\n",
       "      <td>45.0</td>\n",
       "      <td>80.0</td>\n",
       "    </tr>\n",
       "    <tr>\n",
       "      <th>high_blood_pressure</th>\n",
       "      <td>299.0</td>\n",
       "      <td>0.351171</td>\n",
       "      <td>0.478136</td>\n",
       "      <td>0.0</td>\n",
       "      <td>0.0</td>\n",
       "      <td>0.0</td>\n",
       "      <td>1.0</td>\n",
       "      <td>1.0</td>\n",
       "    </tr>\n",
       "    <tr>\n",
       "      <th>platelets</th>\n",
       "      <td>299.0</td>\n",
       "      <td>263358.029264</td>\n",
       "      <td>97804.236869</td>\n",
       "      <td>25100.0</td>\n",
       "      <td>212500.0</td>\n",
       "      <td>262000.0</td>\n",
       "      <td>303500.0</td>\n",
       "      <td>850000.0</td>\n",
       "    </tr>\n",
       "    <tr>\n",
       "      <th>serum_creatinine</th>\n",
       "      <td>299.0</td>\n",
       "      <td>1.393880</td>\n",
       "      <td>1.034510</td>\n",
       "      <td>0.5</td>\n",
       "      <td>0.9</td>\n",
       "      <td>1.1</td>\n",
       "      <td>1.4</td>\n",
       "      <td>9.4</td>\n",
       "    </tr>\n",
       "    <tr>\n",
       "      <th>serum_sodium</th>\n",
       "      <td>299.0</td>\n",
       "      <td>136.625418</td>\n",
       "      <td>4.412477</td>\n",
       "      <td>113.0</td>\n",
       "      <td>134.0</td>\n",
       "      <td>137.0</td>\n",
       "      <td>140.0</td>\n",
       "      <td>148.0</td>\n",
       "    </tr>\n",
       "    <tr>\n",
       "      <th>sex</th>\n",
       "      <td>299.0</td>\n",
       "      <td>0.648829</td>\n",
       "      <td>0.478136</td>\n",
       "      <td>0.0</td>\n",
       "      <td>0.0</td>\n",
       "      <td>1.0</td>\n",
       "      <td>1.0</td>\n",
       "      <td>1.0</td>\n",
       "    </tr>\n",
       "    <tr>\n",
       "      <th>smoking</th>\n",
       "      <td>299.0</td>\n",
       "      <td>0.321070</td>\n",
       "      <td>0.467670</td>\n",
       "      <td>0.0</td>\n",
       "      <td>0.0</td>\n",
       "      <td>0.0</td>\n",
       "      <td>1.0</td>\n",
       "      <td>1.0</td>\n",
       "    </tr>\n",
       "    <tr>\n",
       "      <th>time</th>\n",
       "      <td>299.0</td>\n",
       "      <td>130.260870</td>\n",
       "      <td>77.614208</td>\n",
       "      <td>4.0</td>\n",
       "      <td>73.0</td>\n",
       "      <td>115.0</td>\n",
       "      <td>203.0</td>\n",
       "      <td>285.0</td>\n",
       "    </tr>\n",
       "    <tr>\n",
       "      <th>DEATH_EVENT</th>\n",
       "      <td>299.0</td>\n",
       "      <td>0.321070</td>\n",
       "      <td>0.467670</td>\n",
       "      <td>0.0</td>\n",
       "      <td>0.0</td>\n",
       "      <td>0.0</td>\n",
       "      <td>1.0</td>\n",
       "      <td>1.0</td>\n",
       "    </tr>\n",
       "  </tbody>\n",
       "</table>\n",
       "</div>"
      ],
      "text/plain": [
       "                          count           mean           std      min  \\\n",
       "age                       299.0      60.833893     11.894809     40.0   \n",
       "anaemia                   299.0       0.431438      0.496107      0.0   \n",
       "creatinine_phosphokinase  299.0     581.839465    970.287881     23.0   \n",
       "diabetes                  299.0       0.418060      0.494067      0.0   \n",
       "ejection_fraction         299.0      38.083612     11.834841     14.0   \n",
       "high_blood_pressure       299.0       0.351171      0.478136      0.0   \n",
       "platelets                 299.0  263358.029264  97804.236869  25100.0   \n",
       "serum_creatinine          299.0       1.393880      1.034510      0.5   \n",
       "serum_sodium              299.0     136.625418      4.412477    113.0   \n",
       "sex                       299.0       0.648829      0.478136      0.0   \n",
       "smoking                   299.0       0.321070      0.467670      0.0   \n",
       "time                      299.0     130.260870     77.614208      4.0   \n",
       "DEATH_EVENT               299.0       0.321070      0.467670      0.0   \n",
       "\n",
       "                               25%       50%       75%       max  \n",
       "age                           51.0      60.0      70.0      95.0  \n",
       "anaemia                        0.0       0.0       1.0       1.0  \n",
       "creatinine_phosphokinase     116.5     250.0     582.0    7861.0  \n",
       "diabetes                       0.0       0.0       1.0       1.0  \n",
       "ejection_fraction             30.0      38.0      45.0      80.0  \n",
       "high_blood_pressure            0.0       0.0       1.0       1.0  \n",
       "platelets                 212500.0  262000.0  303500.0  850000.0  \n",
       "serum_creatinine               0.9       1.1       1.4       9.4  \n",
       "serum_sodium                 134.0     137.0     140.0     148.0  \n",
       "sex                            0.0       1.0       1.0       1.0  \n",
       "smoking                        0.0       0.0       1.0       1.0  \n",
       "time                          73.0     115.0     203.0     285.0  \n",
       "DEATH_EVENT                    0.0       0.0       1.0       1.0  "
      ]
     },
     "execution_count": 91,
     "metadata": {},
     "output_type": "execute_result"
    }
   ],
   "source": [
    "df.describe().T"
   ]
  },
  {
   "cell_type": "code",
   "execution_count": 92,
   "id": "cc452c90-817d-4411-9cb5-fbb57983c124",
   "metadata": {},
   "outputs": [
    {
     "name": "stdout",
     "output_type": "stream",
     "text": [
      "the target column is not balanced\n"
     ]
    },
    {
     "data": {
      "text/plain": [
       "(DEATH_EVENT\n",
       " 0    203\n",
       " 1     96\n",
       " Name: count, dtype: int64,\n",
       " None)"
      ]
     },
     "execution_count": 92,
     "metadata": {},
     "output_type": "execute_result"
    }
   ],
   "source": [
    "df[\"DEATH_EVENT\"].value_counts(),print(\"the target column is not balanced\")"
   ]
  },
  {
   "cell_type": "markdown",
   "id": "dc4ee686-4381-44cf-a6b9-bfd76d8b653e",
   "metadata": {},
   "source": [
    "#### feature engineering "
   ]
  },
  {
   "cell_type": "code",
   "execution_count": 94,
   "id": "40cd7532-3fd0-4593-a88b-4e683c3b7459",
   "metadata": {},
   "outputs": [],
   "source": [
    "df[\"creatinine_ratio\"] = df[\"serum_creatinine\"] / df[\"serum_sodium\"]\n",
    "df[\"age_group\"] = df[\"age\"] // 10\n",
    "df[\"risk_score\"] = df[\"ejection_fraction\"] * (df[\"serum_sodium\"] / df[\"creatinine_phosphokinase\"])\n",
    "\n",
    "df['age_x_creatinine'] = df['age'] * df['serum_creatinine']\n",
    "df['platelets_x_age'] = df['platelets'] * df['age']\n",
    "df['bp_x_diabetes'] = df['high_blood_pressure'] * df['diabetes']\n",
    "df['sex_x_smoking'] = df['sex'] * df['smoking']\n",
    "\n",
    "df['creatinine_per_platelet'] = df['serum_creatinine'] / (df['platelets'] + 1e-5)\n",
    "df['sodium_creatinine_ratio'] = df['serum_sodium'] / (df['serum_creatinine'] + 1e-5)\n",
    "\n",
    "df['creatinine_per_time'] = df['serum_creatinine'] / (df['time'] + 1)\n",
    "df['platelets_per_time'] = df['platelets'] / (df['time'] + 1)\n",
    "\n",
    "df['anaemia_diabetes'] = ((df['anaemia'] == 1) & (df['diabetes'] == 1)).astype(int)\n",
    "df['elderly_smoker'] = ((df['age'] > 65) & (df['smoking'] == 1)).astype(int)\n",
    "df['high_risk_group'] = ((df['ejection_fraction'] < 30) & (df['serum_creatinine'] > 1.5)).astype(int)\n"
   ]
  },
  {
   "cell_type": "markdown",
   "id": "7657d2ad-6fe6-4dfc-ac0a-9b3aa779cfc4",
   "metadata": {},
   "source": [
    "#### preparing data for modeling "
   ]
  },
  {
   "cell_type": "code",
   "execution_count": 96,
   "id": "484b3783-64a7-4ccf-904c-af0d3fcbfed9",
   "metadata": {},
   "outputs": [
    {
     "name": "stdout",
     "output_type": "stream",
     "text": [
      "Value count of the target column after spliting: \n",
      " DEATH_EVENT\n",
      "0    162\n",
      "1     77\n",
      "Name: count, dtype: int64\n",
      " Value counts after applying SMOTE: \n",
      "DEATH_EVENT\n",
      "0    162\n",
      "1    162\n",
      "Name: count, dtype: int64\n"
     ]
    }
   ],
   "source": [
    "# spliting the into features and target\n",
    "X=df.drop(\"DEATH_EVENT\", axis=1) \n",
    "y=df[\"DEATH_EVENT\"]\n",
    "\n",
    "# spliting data into train and test. This is done before any transformation to avoid data leakage \n",
    "X_train, X_test, y_train, y_test = train_test_split(X, y,test_size=0.2,stratify=y,random_state=42)\n",
    "\n",
    "print(f\"Value count of the target column after spliting: \\n {y_train.value_counts()}\")\n",
    "\n",
    "# Apply SMOTE. this is just to balance our target column by increasing the minoriy sample\n",
    "smote = SMOTE(random_state=42)\n",
    "X_resampled, y_resampled = smote.fit_resample(X_train, y_train)\n",
    "\n",
    "print(f\" Value counts after applying SMOTE: \\n{ y_resampled.value_counts()}\")\n",
    "\n",
    "\n",
    "#scaling the data,this so because we range of values \n",
    "scaler = StandardScaler()\n",
    "scaler.fit(X_train)\n",
    "\n",
    "# Transform your data\n",
    "X_resampled_test = scaler.transform(X_resampled)\n",
    "X_test = scaler.transform(X_test)  \n"
   ]
  },
  {
   "cell_type": "markdown",
   "id": "3bdac814-6905-4bf4-840e-c169adc75ad8",
   "metadata": {},
   "source": [
    "#### Modeling "
   ]
  },
  {
   "cell_type": "code",
   "execution_count": 98,
   "id": "2d612ee1-3a2b-4e28-b275-bbf4fd7359e1",
   "metadata": {},
   "outputs": [
    {
     "name": "stdout",
     "output_type": "stream",
     "text": [
      "Best C: {'Lgr__C': 1, 'Lgr__max_iter': 1000, 'Lgr__penalty': 'l2', 'Lgr__random_state': 42, 'Lgr__solver': 'liblinear'}\n",
      "Best F1-score: 0.8448886628409771\n"
     ]
    }
   ],
   "source": [
    "pipe = Pipeline([(\"scaler\", StandardScaler()), (\"Lgr\", LogisticRegression())])\n",
    "\n",
    "param_grid = {'Lgr__C': [0.0001, 0.001, 0.01, 0.1, 1, 10, 100],\"Lgr__penalty\":[\"l2\"], \n",
    "              \"Lgr__solver\":[\"liblinear\"],\"Lgr__max_iter\":[1000],\"Lgr__random_state\":[42]}     \n",
    "grid  = GridSearchCV(pipe,                     \n",
    "        param_grid, scoring=\"f1\", cv=5)            \n",
    "\n",
    "grid.fit(X_resampled,y_resampled)\n",
    "print(\"Best C:\", grid.best_params_)\n",
    "print(\"Best F1-score:\", grid.best_score_)\n",
    "\n",
    "\n",
    "# y_predict=model.predict(X_test)\n",
    "# score=f1_score(y_predict, y_test)\n",
    "\n"
   ]
  },
  {
   "cell_type": "code",
   "execution_count": 114,
   "id": "f0b13e46-32b4-4131-b19b-037df78e02e6",
   "metadata": {},
   "outputs": [
    {
     "data": {
      "text/plain": [
       "0.6486486486486487"
      ]
     },
     "execution_count": 114,
     "metadata": {},
     "output_type": "execute_result"
    }
   ],
   "source": [
    "model = LogisticRegression(penalty= \"l2\",C=1,solver=\"liblinear\",max_iter=1000,random_state=42)\n",
    "model.fit(X_resampled_test,y_resampled)\n",
    "y_predict=model.predict(X_test)\n",
    "score=f1_score(y_predict, y_test)                   \n",
    "score                                        "
   ]
  },
  {
   "cell_type": "markdown",
   "id": "39d74aeb-7f08-4e19-9977-899f973c1a02",
   "metadata": {},
   "source": [
    "### 📌 Why `grid.best_score_` and Final `f1_score` Are Different\n",
    "\n",
    "The difference between the F1-score obtained from `GridSearchCV` (`grid.best_score_`) and the F1-score calculated on the test set is **expected** and explained by the following:\n",
    "\n",
    "#### 🔁 1. Cross-Validation Uses SMOTE-Resampled Data\n",
    "- `GridSearchCV` performs k-fold cross-validation **only on the training data**.\n",
    "- This training data was **resampled using SMOTE**, which creates synthetic examples to balance the classes.\n",
    "- During cross-validation, both training and validation folds contain **synthetic, balanced data**.\n",
    "- This often makes the classification problem easier, leading to a **higher F1-score**.\n",
    "\n",
    "#### 🧪 2. Final Model Evaluation Uses the Real Test Set\n",
    "- The final model is evaluated on a **held-out test set** that was **not resampled**.\n",
    "- This test set retains the **original class imbalance**, making it more challenging.\n",
    "- The model, although trained on balanced data, now has to perform on **imbalanced, real-world data**, where metrics like F1-score usually **drop**.\n",
    "\n",
    "#### 🎯 3. Summary\n",
    "> The F1-score from cross-validation reflects performance on synthetic, balanced data.\n",
    "> The test F1-score reflects performance on real, imbalanced data.\n",
    "> A drop in the final score is **normal** and shows how well the model generalizes.\n",
    "\n"
   ]
  },
  {
   "cell_type": "code",
   "execution_count": 100,
   "id": "cef3cccf-a852-4107-a673-e4790de5201a",
   "metadata": {},
   "outputs": [
    {
     "data": {
      "text/plain": [
       "['model.pkl']"
      ]
     },
     "execution_count": 100,
     "metadata": {},
     "output_type": "execute_result"
    }
   ],
   "source": [
    "# using the entire data to train the model \n",
    "\n",
    "# Apply SMOTE. this is just to balance our target column by increasing the minoriy sample\n",
    "smote = SMOTE(random_state=42)\n",
    "X, y = smote.fit_resample(X, y)\n",
    "\n",
    "#scaling the data. this need to be done because we have high range of values \n",
    "scaler = StandardScaler()\n",
    "scaler.fit(X)\n",
    "X = scaler.transform(X)  \n",
    "\n",
    "Model = LogisticRegression(penalty= \"l2\",C=0.01,solver=\"liblinear\",max_iter=1000,random_state=42)\n",
    "Model.fit(X,y)\n",
    "joblib.dump(model, 'model.pkl')"
   ]
  },
  {
   "cell_type": "code",
   "execution_count": 101,
   "id": "ab61456d-8f41-4c1f-aa2a-134a776aee81",
   "metadata": {},
   "outputs": [
    {
     "data": {
      "text/plain": [
       "0.8114649202362193"
      ]
     },
     "execution_count": 101,
     "metadata": {},
     "output_type": "execute_result"
    }
   ],
   "source": [
    "0.8448886628409771\n",
    "\n",
    "0.8114649202362193"
   ]
  }
 ],
 "metadata": {
  "kernelspec": {
   "display_name": "Python 3 (ipykernel)",
   "language": "python",
   "name": "python3"
  },
  "language_info": {
   "codemirror_mode": {
    "name": "ipython",
    "version": 3
   },
   "file_extension": ".py",
   "mimetype": "text/x-python",
   "name": "python",
   "nbconvert_exporter": "python",
   "pygments_lexer": "ipython3",
   "version": "3.12.4"
  }
 },
 "nbformat": 4,
 "nbformat_minor": 5
}
